{
 "cells": [
  {
   "cell_type": "markdown",
   "id": "852b0d73",
   "metadata": {},
   "source": [
    "# Befood"
   ]
  },
  {
   "cell_type": "markdown",
   "id": "33a3655b",
   "metadata": {},
   "source": [
    "## restaurant"
   ]
  },
  {
   "cell_type": "code",
   "execution_count": null,
   "id": "6bb12664",
   "metadata": {},
   "outputs": [],
   "source": [
    "import pandas as pd \n",
    "import os \n",
    "import matplotlib.pyplot as plt\n",
    "import re\n",
    "import json\n",
    "from sklearn.neighbors import NearestNeighbors\n",
    "from sklearn.cluster import DBSCAN\n",
    "import math\n",
    "import csv\n",
    "import requests\n",
    "from tqdm import tqdm"
   ]
  },
  {
   "cell_type": "code",
   "execution_count": null,
   "id": "e3f55e85",
   "metadata": {},
   "outputs": [],
   "source": [
    "befood_restaurant = r\"./Grab/data/data_grb/befood/restaurant_info.csv\"\n",
    "befood_review = r\"./Grab/data/data_grb/befood/reviews.csv\"\n",
    "befood_dishes = r\"./Grab/data/data_grb/befood/dishes.csv\"\n",
    "\n",
    "befood_restaurant = pd.read_csv(befood_restaurant, encoding='utf-8')\n",
    "befood_review = pd.read_csv(befood_review, encoding='utf-8')\n",
    "befood_dishes = pd.read_csv(befood_dishes, encoding='utf-8')"
   ]
  },
  {
   "cell_type": "code",
   "execution_count": null,
   "id": "8f6a77b6",
   "metadata": {},
   "outputs": [],
   "source": [
    "# remove rows with all NaN values in the restaurant_id column\n",
    "befood_restaurant = befood_restaurant.dropna(subset=['restaurant_id'])\n",
    "#show 'restaurant_id', 'restaurant_name', 'latitude', 'longitude', 'display_address', 'rating', 'review_count', 'city' columns\n",
    "befood_restaurant = befood_restaurant[['restaurant_id', 'restaurant_name', 'latitude', 'longitude', 'display_address', 'rating', 'review_count', 'city']]\n",
    "#rename columns 'display_address': 'address', 'rating': 'restaurant_rating', 'city': 'city_id'\n",
    "befood_restaurant.rename(columns={'display_address': 'address', 'rating': 'restaurant_rating', 'city': 'city_id'}, inplace=True)\n",
    "# add plateform_id = 0\n",
    "befood_restaurant['platform_id'] = 0\n",
    "befood_restaurant = befood_restaurant.dropna(subset=['restaurant_id'])"
   ]
  },
  {
   "cell_type": "code",
   "execution_count": null,
   "id": "3b680a11",
   "metadata": {},
   "outputs": [],
   "source": [
    "# 1) Biên dịch pattern đầy đủ, loại bỏ các match không có nội dung sau \"Quận\"/\"Q.\"\n",
    "pattern = re.compile(\n",
    "    r'('\n",
    "      r'(?:Quận|Q\\.)\\s*[^\\s\\-,]+'             # Bắt \"Quận\" hoặc \"Q.\" + từ đầu tiên KHÔNG được là dấu cách\n",
    "      r'(?:\\s+[^\\s\\-,]+)*'                    # Bắt thêm các token tiếp theo nếu có\n",
    "      r'(?=,| - | Thành Phố| TP\\.| TP | TP HCM| HCM| Hồ Chí Minh| HN| Hà Nội|$)'  # Dừng đúng chỗ\n",
    "    r'|'\n",
    "      r'(?:Thành Phố|TP\\.?|Tp\\.?|tp\\.?)\\s*Thủ Đức'  # Bắt Thành Phố Thủ Đức, TP Thủ Đức, ...\n",
    "    r')',\n",
    "    flags=re.IGNORECASE\n",
    ")\n",
    "\n",
    "def extract_district(address: str) -> str:\n",
    "    if not isinstance(address, str):\n",
    "        return None\n",
    "    m = pattern.search(address)\n",
    "    if m:\n",
    "        return m.group(0).strip()\n",
    "    return None\n",
    "\n",
    "befood_restaurant['district_simple'] = befood_restaurant['address'].apply(extract_district)"
   ]
  },
  {
   "cell_type": "code",
   "execution_count": null,
   "id": "667ce22f",
   "metadata": {},
   "outputs": [],
   "source": [
    "pd.set_option('display.max_colwidth', None)\n",
    "# show district and address columns with none values in district column that are not null in address column\n",
    "befood_restaurant[befood_restaurant['district_simple'].isna() & befood_restaurant['address'].notna()][['district_simple', 'address', 'longitude', 'latitude']].tail(10)"
   ]
  },
  {
   "cell_type": "code",
   "execution_count": null,
   "id": "687e0813",
   "metadata": {},
   "outputs": [],
   "source": [
    "normalize_map_full = {\n",
    "    # TP. Hồ Chí Minh\n",
    "    'quận 1': ['Quận 1. TPHCM', 'Quận 1 TP HCM','Quận 1 HCM', 'quận 1 thành phố Hồ Chí Minh', 'Quận 1 Hồ Chí Minh','quận 1','Quận 1', 'Q.1', 'Q. 1', 'Quận 01', 'Quận\\xa01', 'Quận1'],\n",
    "    'quận 2': ['Quận 2', 'Quận 2 (3 Đường 63)', 'Q.2', 'quận 2', 'Quận 2 Hồ Chí Minh','Q. 2'],\n",
    "    'quận 3': ['Quận 3', 'Q. 3', 'Q.3', 'quận 3', 'Quận 3 Thành phố Hồ Chí Minh', 'Quận 3 TP. HCM','Quận\\xa03', 'Quận 3. Hồ Chí Minh', 'Quận 3 Hồ Chí Minh','Quận 03'],\n",
    "    'quận 4': ['Quận 4', 'Q. 4', 'Quận4)', 'Q.4', 'quận 4', 'Quận 04', 'Quận 4 Hồ Chí Minh', 'Quận\\xa04', 'Quận 4. Hồ Chí Minh'],\n",
    "    'quận 5': ['Quận 5', 'Q. 5', 'quận 5', 'Quận\\xa05', 'Quận 5)', 'Quận 5 (đầu hẻm 327/71)', 'Quận 05', 'quận 5 TP HCM', 'Q.5', 'Quận 5 TP HCM'],\n",
    "    'quận 6': ['Quận 6', 'Q.6', 'quận 6', 'Q. 6', 'Quận. 6', 'Quận 6)', 'Quận 06', 'Quận 6 Hồ Chí Minh', 'Quận\\xa06'],\n",
    "    'quận 7': ['Quận Tân Hưng', 'Quận Bình Thuận','Quận 7', 'Q. 7', 'Q.7', 'quận 7', 'quận 7 TP. HCM', 'Quận 7. Hồ Chí Minh', 'Quận 7.', 'Quận\\xa07', 'Quận 7 Hồ Chí Minh', 'Quận  7'],\n",
    "    'quận 8': ['Quận 8', 'Q.8', 'Q. 8', 'quận 8', 'Quận 08', 'Quận  8', 'Quận\\xa08', 'Quận 8 Thành Phố Hồ Chí Minh'],\n",
    "    'quận 9': ['Quận 9', 'Q. 9', 'Q.9', 'quận 9', 'Quận\\xa09', 'Quận 9 TP Thủ Đức', 'Quận 9) Thành Phố Thủ Đức'],\n",
    "    'quận 10': ['Quận 10', 'QUận 10', 'Quận\\xa010', 'Q.10', 'quận 10', 'Q. 10', 'Q.10 TPHCM', 'Quận 10)', 'Quận 10 TP. HCM', 'Q.10 Tp HCM', 'quận 10 HCM', 'Quận 10. TP.HCM', 'Quận 10 Hồ Chí Minh', 'q.10'],\n",
    "    'quận 11': ['Quận 11', 'quận 11', 'Q.11', 'Q. 11', 'q.11'],\n",
    "    'quận 12': ['Quận 12', 'Q. 12', 'Q.12', 'quận 12', 'Quận 12 Hồ Chí Minh', 'Quận 12 Thành phố Hồ Chí Minh', 'Quận\\xa012', 'Q.12 HCM', 'QUận 12', 'quận 12\\x08', 'Quận  12'],\n",
    "    'quận bình thạnh': ['Quận Bình Thành', 'Quận\\xa0Bình\\xa0Thạnh', 'Quận Bình Thanh','Quận Binh Thạnh', 'Quận Bình Thạnh','Quận Bình Thạnh', 'Q.Bình Thạnh', 'quận Bình Thạnh', 'Q. Bình Thạnh', 'Quận Bình Thạnh TP.Hồ Chí Minh', 'Q. Bình Thạnh TPHCM', 'Quận  Bình Thạnh', 'quận bình thạnh', 'Q.Bình Thạnh TP.HCM', 'Quận Bình Thạnh Hồ Chí Minh', 'Quận Bình Thạnh. TP.HCM', 'Quận Bình Thạnh HCM', 'Quận Bình Thạnh. Hồ Chí Minh', 'QUận Bình Thạnh', 'Quận\\xa0Bình Thạnh', 'Quận bình Thạnh', 'Quận\\tBình Thạnh', 'Quận.Bình Thạnh', 'Quận Bình Thạnh. Thành phố Hồ Chí Minh'],\n",
    "    'quận phú nhuận': ['Quận Phú Nhuận', 'Quận\\xa0Phú\\xa0Nhuận', 'Quận Phú Nhuận', 'Quận Phú Nhuận', 'Quận Phú Nhuận', 'quận Phú Nhuận', 'Q.Phú Nhuận', 'Q. Phú Nhuận', 'Q.Phú Nhuận TPHCM', 'Quận Phú nhuận', 'Q. Phú nhuận', 'Quận Phú Nhuận.TP.HCM', 'Quận Phú Nhuận. Hồ Chí Minh', 'Quận Phú Nhuận Hồ Chí Minh', 'QUẬN PHÚ NHUẬN'],\n",
    "    'quận gò vấp': ['Quận Gò Vấp','Quận Gò\\tVấp','Q.GV','Quận\\xa0Gò\\xa0Vấp','Quận Gò Vấp', 'quận Gò Vấp', 'Q.Gò Vấp', 'Q. Gò Vấp', 'Q.Gò Vấp Tp.HCM', 'Quận\\xa0Gò Vấp', 'Q. Gò Vấp TPHCM', 'Quận Gò Vấp Hồ Chí Minh', 'Quận gò Vấp', 'Quận Gò Vấp TP', 'Quận Gò Vấp HCM', 'Quận Gò vấp', 'Quận  Gò Vấp', 'quận Gò vấp'],\n",
    "    'quận tân bình': ['Quận tận bình', 'Quận Tân Bình', 'Quận Tân Bı̀nh', 'Quận Tân Binh','Quận Tân Bình', 'quận Tân Bình', 'Q. Tân Bình', 'Q.Tân Bình', 'Quận Tân Bình Hồ Chí Minh', 'Q.Tân bình', 'Q.uận Tân Bình', 'quận Tân bình', 'Quận\\xa0Tân Bình', 'quận tân bình TP HCM', 'Quận Tân BÌnh', 'Quận tân Bình', 'Quận Tân bình', 'QuậnTân Bình'],\n",
    "    'quận tân phú': ['Quận\\xa0Tân\\xa0Phú','Q.Tân Phú', 'Quận Tận Phú', 'Quận Tân Phú', 'Q.Tân Phú', 'Q. Tân Phú', 'quận Tân Phú', 'Quận\\xa0Tân Phú', 'Quận. Tân Phú', 'quận Tân Phú HCM', 'q.Tân phú', 'Quận  Tân Phú', 'Quận Tân Phú Hồ Chí Minh', 'Quận Tân Phú. TPHCM', 'Quận Tân Phú. Hồ Chí Minh', 'Quận Tân phú'],\n",
    "    'quận bình tân': ['Quận Bình Tân','Quận Bình Trị Đông B','Quận Bình Tân', 'Q. Bình Tân', 'Q.Bình Tân', 'quận Bình Tân', 'Quận\\xa0Bình Tân', 'Quận bình Tân', 'Quận Bình Tân (Tầng trệt siêu thị Co.opMart Bình Tân)', 'Quận Quận Bình Tân', 'Quận bình Tân HCM', 'Quận Bình Tân Hồ Chí Minh'],\n",
    "    'thành phố thủ đức': ['Thành phố Thủ Đức', 'Thành Phố Thủ Đức', 'TP. Thủ Đức', 'TP.Thủ Đức', 'Q.Thủ Đức', 'Quận Thủ Đức', 'TP Thủ Đức', 'quận Thủ Đức', 'Q. Thủ Đức', 'Tp. Thủ Đức', 'Tp.Thủ Đức', 'Tp Thủ Đức', 'tp Thủ Đức', 'thành phố Thủ Đức', 'Thành Phố Thủ ĐỨc', 'Quận Thủ Đức Hồ Chí Minh', 'Thành phố thủ Đức', 'Quận 9 TP Thủ Đức', 'Thành Phố thủ Đức', 'tp thủ đức', 'Thành Phố Thủ đức', 'Thành Phố  Thủ Đức', 'Quận 2 cũ) Thành phố Thủ Đức', 'Quận 9) Thành Phố Thủ Đức', 'quận TP.Thủ Đức', 'Quận 2) Thành Phố Thủ Đức', 'Thành PhốThủ Đức'],\n",
    "    'quận nhà bè': ['quận nhà bè','Quận Nhà Bè'],\n",
    "    'quận bình chánh': ['quận bình chánh','Quận Bình Chánh'],\n",
    "    'quận hóc môn': ['quận hóc môn','Quận Hóc Môn'],\n",
    "    'quận tân quý' :['Quận Tân Quý'],\n",
    "    \n",
    "    # Hà Nội\n",
    "    'quận ba đình': ['Quận\\xa0Ba\\xa0Đình', 'Quận Bà Đình','Quận Ba Đình', 'Q. Ba Đình', 'Q.Ba Đình', 'Quận Ba ĐÌnh', 'quận ba đình', 'quận Ba Đình', 'Q.  Ba Đình', 'Quận Ba Đình Hà Nội', 'QUận Ba Đình'],\n",
    "    'quận hoàn kiếm': ['Quận Hoàng Kiếm','Quận Hoàn Kiếm', 'Q. Hoàn Kiếm', 'quận Hoàn Kiếm', 'Q.Hoàn Kiếm', 'QUận Hoàn Kiếm', 'Quận Hoàn kiếm'],\n",
    "    'quận đống đa': ['Quận Đồng Đa', 'Quận Đông Đa','Quận\\xa0Đống\\xa0Đa','Quận Đống Đa', 'quận Đống Đa', 'Q. Đống Đa', 'Q.Đống Đa', 'Quận Đống Đa Hà Nội'],\n",
    "    'quận hai bà trưng': ['Quận Hai Bà Trưng','Quận Hai Bà Trưng', 'Q. Hai Bà Trưng', 'Q.Hai Bà Trưng', 'quận Hai Bà Trưng', 'Quận Hai Bà Trưng Hà Nội', 'q. Hai Bà Trưng', 'Quận Hai bà Trưng', 'Quận\\xa0Hai Bà Trưng', 'quận Hai Bà Trưng Tp. Hà Nội'],\n",
    "    'quận thanh xuân': ['Quận Thanh Xuân', 'Q. Thanh Xuân', 'Q.Thanh Xuân', 'quận thanh xuân', 'quận Thanh Xuân', 'Quận\\xa0Thanh Xuân', 'Quận thanh Xuân', 'Quận Thanh xuân'],\n",
    "    'quận cầu giấy': ['Quận\\xa0Cầu Giấy','Quận Cầu Giấy','Quận Cầu Gấy', 'Q.Cầu Giầy','Quận Cầu Giấy', 'Q.Cầu Giấy', 'Q. Cầu Giấy', 'quận Cầu Giấy', 'Quận Cầu GIấy', 'Quận Cấu Giấy', 'Quận Cầu giấy', 'Quận Cầu Giấy Hà Nội', 'Quận Cần Giấy'],\n",
    "    'quận tây hồ': ['Quận Tây Hổ','Quận Tây Hồ', 'Q.Tây Hồ', 'Q. Tây Hồ', 'quận Tây Hồ', 'Quận Tây Hồ Hà Nội'],\n",
    "    'quận hà đông': ['Quận Hà Đồng', 'Quận Hà Đông','Quận Đông Hà','Quận Hà Đông', 'Q. Hà Đông', 'Q.Hà Đông', 'quận Hà Đông', 'Quận  Hà Đông', 'Quận\\xa0Hà Đông', 'QuậnHà Đông', 'Quận Hà đông'],\n",
    "    'quận hoàng mai': ['Quận Hoàn Mai', 'Quận Hoàng Mai', 'Q. Hoàng Mai', 'Q.Hoàng Mai', 'quận Hoàng Mai', 'quận Hoàng mai', 'Quận Hoàng Mai Hà Nội', 'q. Hoàng Mai', 'Quận\\xa0Hoàng Mai', 'Quận Quận Hoàng Mai'],\n",
    "    'quận từ liêm' :['Quận Từ Liêm','Q. Từ Liêm'],\n",
    "    'quận bắc từ liêm': ['quận bắc từ liêm','Quận Bắc Từ Liêm', 'Q. Bắc Từ Liêm', 'Q.Bắc Từ Liêm', 'quận Bắc Từ Lêm', 'Quận Bắc Từ  Liêm', 'quận Bắc Từ Liêm', 'quận Bắc Từ Liêm Hà Nội', 'Quận Bắc Từ Liên', 'Quận Bắc từ Liêm', 'Quận Bắc Từ Liêm Hà Nội'],\n",
    "    'quận nam từ liêm': ['Quận Năm Từ Liêm', 'Q. Nam Từ Liêm', 'Quận Nam Từ Liêm', 'Q.Nam Từ Liêm', 'quận Nam Từ Liêm', 'Quận Nam Từ liêm', 'quận Nam Từ LIêm', 'quận nam từ liêm', 'Quận\\xa0Nam\\xa0Từ\\xa0Liêm', 'Quận Nam Từ Liêm Hà Nội', 'Quận Nam Từ Liêm', 'Quận Nam từ Liêm', 'Quận Nam Từ Niêm', 'Quận  Nam Từ Liêm', 'Quận Nam từ liêm'],\n",
    "    'quận long biên': ['Quận Long Biên', 'Q.Long Biên', 'Q. Long Biên', 'Quận Long biên', 'quận Long Biên', 'Quận\\xa0Long Biên'],\n",
    "    'quận thanh trì': ['quận thanh trì', 'Quận Thanh Trì', 'Quận Thanh Trì', 'quận Thanh Trì', 'Quận Thành Trì'],\n",
    "    'quận hoài đức' : ['Quận Hoài Đức'],\n",
    "    'quận gia lâm' :['Q. Gia Lâm'],\n",
    "    'quận dương nội': ['Quận Dương Nội', 'Q.Dương Nội', 'quận Dương Nội', 'Quận Dương nội'],\n",
    "\n",
    "}"
   ]
  },
  {
   "cell_type": "code",
   "execution_count": null,
   "id": "dcd186e4",
   "metadata": {},
   "outputs": [],
   "source": [
    "flat_normalize_map = {}\n",
    "\n",
    "for standard, variants in normalize_map_full.items():\n",
    "    for v in variants:\n",
    "        flat_normalize_map[v] = standard\n",
    "    flat_normalize_map[standard] = standard  # Map luôn chuẩn vào chính nó\n",
    "befood_restaurant[\"district_mapped\"] = befood_restaurant[\"district_simple\"].replace(flat_normalize_map)"
   ]
  },
  {
   "cell_type": "code",
   "execution_count": null,
   "id": "58760a8b",
   "metadata": {},
   "outputs": [],
   "source": [
    "befood_restaurant[\"district_mapped\"].unique()"
   ]
  },
  {
   "cell_type": "code",
   "execution_count": null,
   "id": "98ab06e4",
   "metadata": {},
   "outputs": [],
   "source": [
    "df = befood_restaurant.copy()\n",
    "\n",
    "# Tách known và unknown\n",
    "known = df[df['district_mapped'].notna()].reset_index(drop=True)\n",
    "unknown = df[df['district_mapped'].isna()].reset_index()\n",
    "\n",
    "# Tọa độ\n",
    "X_known   = known[['latitude','longitude']].values\n",
    "X_unknown = unknown[['latitude','longitude']].values\n",
    "\n",
    "# Fit NearestNeighbors (lấy 3 neighbor)\n",
    "nn = NearestNeighbors(n_neighbors=3, algorithm='ball_tree')\n",
    "nn.fit(X_known)\n",
    "\n",
    "# Tìm index 3 neighbors gần nhất\n",
    "distances, indices = nn.kneighbors(X_unknown)\n",
    "\n",
    "assigned = []\n",
    "for idx_list in indices:\n",
    "    neighbor_districts = known.loc[idx_list, 'district_mapped'].values\n",
    "    # Lấy district phổ biến nhất\n",
    "    if len(neighbor_districts) > 0:\n",
    "        majority_vote = pd.Series(neighbor_districts).mode().iloc[0]\n",
    "        assigned.append(majority_vote)\n",
    "    else:\n",
    "        assigned.append(None)\n",
    "\n",
    "df.loc[unknown['index'], 'district_mapped'] = assigned\n",
    "befood_restaurant['district_mapped'] = df['district_mapped']\n",
    "\n",
    "print(\"Null còn lại:\", befood_restaurant['district_mapped'].isna().sum())\n",
    "print(befood_restaurant.loc[befood_restaurant['district_mapped'].isna(), \n",
    "                            ['address','latitude','longitude']].head(10))"
   ]
  },
  {
   "cell_type": "code",
   "execution_count": null,
   "id": "3e822b14",
   "metadata": {},
   "outputs": [],
   "source": [
    "# Lấy danh sách district duy nhất đã chuẩn hóa\n",
    "district_list = sorted(df['district_mapped'].unique())\n",
    "\n",
    "# Gán số thứ tự\n",
    "district2id = {d: idx for idx, d in enumerate(district_list)}\n",
    "\n",
    "# Tạo thêm cột district_id\n",
    "df['district_id'] = df['district_mapped'].map(district2id)"
   ]
  },
  {
   "cell_type": "code",
   "execution_count": null,
   "id": "26ec3779",
   "metadata": {},
   "outputs": [],
   "source": [
    "df.to_csv(r\"./Grab/data/data_grb/befood/befood_restaurants.csv\", index=False, encoding='utf-8')"
   ]
  },
  {
   "cell_type": "markdown",
   "id": "27e33ba7",
   "metadata": {},
   "source": [
    "## review"
   ]
  },
  {
   "cell_type": "code",
   "execution_count": null,
   "id": "c492d6c1",
   "metadata": {},
   "outputs": [],
   "source": [
    "# Tạo dict mapping từng user_name -> thứ tự incremental\n",
    "unique_users = befood_review['user_name'].unique()\n",
    "user_map = {name: idx for idx, name in enumerate(unique_users, 1)}\n",
    "\n",
    "# Áp mapping vào cột mới\n",
    "befood_review['user_id'] = befood_review['user_name'].map(user_map)\n",
    "befood_review['platform_id'] = 0"
   ]
  },
  {
   "cell_type": "markdown",
   "id": "7591ce59",
   "metadata": {},
   "source": [
    "## dishes"
   ]
  },
  {
   "cell_type": "code",
   "execution_count": null,
   "id": "246e3d14",
   "metadata": {},
   "outputs": [],
   "source": [
    "befood_dishes = befood_dishes[['restaurant_id', 'category_id', 'category_name', 'restaurant_item_id', 'item_name', 'price']]\n",
    "#rename  'restaurant_item_id': 'dish_id'\n",
    "befood_dishes.rename(columns={'restaurant_item_id': 'dish_id'}, inplace=True)\n",
    "# add platform_id = 0\n",
    "befood_dishes['platform_id'] = 0"
   ]
  },
  {
   "cell_type": "code",
   "execution_count": null,
   "id": "ac8d96db",
   "metadata": {},
   "outputs": [],
   "source": []
  },
  {
   "cell_type": "markdown",
   "id": "e30e556b",
   "metadata": {},
   "source": [
    "# Foody"
   ]
  },
  {
   "cell_type": "code",
   "execution_count": null,
   "id": "87019f74",
   "metadata": {},
   "outputs": [],
   "source": [
    "foody_restaurant = r\"./Grab/data/data_grb/foody/restaurants.csv\"\n",
    "foody_review = r\"./Grab/data/data_grb/foody/reviews.csv\"\n",
    "foody_dishes = r\"./Grab/data/data_grb/foody/dishes.csv\"\n",
    "\n",
    "foody_restaurant = pd.read_csv(foody_restaurant, encoding='utf-8')\n",
    "foody_review = pd.read_csv(foody_review, encoding='utf-8')\n",
    "foody_dishes = pd.read_csv(foody_dishes, encoding='utf-8')"
   ]
  },
  {
   "cell_type": "markdown",
   "id": "36799ed6",
   "metadata": {},
   "source": [
    "## restaurant"
   ]
  },
  {
   "cell_type": "code",
   "execution_count": null,
   "id": "b11d810b",
   "metadata": {},
   "outputs": [],
   "source": [
    "# show 'restaurant_id', 'restaurant_name', 'latitude', 'longitude', 'display_address', 'rating', 'review_count' \n",
    "foody_restaurant = foody_restaurant[['restaurant_id', 'restaurant_name', 'latitude', 'longitude', 'address', 'rating', 'review_count']]\n",
    "# rename columns  'display_address': 'address', 'rating': 'restaurant_rating'\n",
    "foody_restaurant.rename(columns={'rating': 'restaurant_rating'}, inplace=True)\n",
    "# scale restaurant_id to band 5 \n",
    "foody_restaurant['restaurant_rating'] = ((foody_restaurant['restaurant_rating']) / 2).round()\n",
    "# add platform_id = 1\n",
    "foody_restaurant['platform_id'] = 1\n",
    "foody_restaurant.head(3)"
   ]
  },
  {
   "cell_type": "code",
   "execution_count": null,
   "id": "e2f841ac",
   "metadata": {},
   "outputs": [],
   "source": [
    "# show distribution of rating\n",
    "foody_restaurant['restaurant_rating'].value_counts().sort_index().plot(kind='bar')"
   ]
  },
  {
   "cell_type": "code",
   "execution_count": null,
   "id": "291bc86b",
   "metadata": {},
   "outputs": [],
   "source": [
    "# Tách city\n",
    "def extract_city(address):\n",
    "    if isinstance(address, str):\n",
    "        parts = [p.strip() for p in address.split(',') if p.strip()]\n",
    "        return parts[-1] if parts else None\n",
    "    return None\n",
    "\n",
    "# Tách quận/huyện/thành phố trực thuộc tỉnh\n",
    "def extract_district_raw(address):\n",
    "    if not isinstance(address, str):\n",
    "        return None\n",
    "    parts = [p.strip() for p in address.split(',') if p.strip()]\n",
    "    if len(parts) < 2:\n",
    "        return None\n",
    "    return parts[-2]  # phần trước thành phố\n",
    "\n",
    "# Áp dụng vào DataFrame\n",
    "foody_restaurant['city'] = foody_restaurant['address'].apply(extract_city)\n",
    "foody_restaurant['district_raw'] = foody_restaurant['address'].apply(extract_district_raw)"
   ]
  },
  {
   "cell_type": "code",
   "execution_count": null,
   "id": "2a053981",
   "metadata": {},
   "outputs": [],
   "source": [
    "# Chuẩn hóa function\n",
    "def normalize_text(text):\n",
    "    if isinstance(text, str):\n",
    "        text = re.sub(r\"[\\s\\u00a0\\u200b]+\", \" \", text)\n",
    "        text = text.replace(\".\", \"\").strip().lower()\n",
    "        return text\n",
    "    return text\n",
    "\n",
    "# Chuẩn hóa city, district\n",
    "foody_restaurant['city_clean'] = foody_restaurant['city'].apply(normalize_text)\n",
    "foody_restaurant['district_clean'] = foody_restaurant['district_raw'].apply(normalize_text)\n",
    "\n",
    "# Tạo list unique\n",
    "city_list = sorted(foody_restaurant['city_clean'].dropna().unique())\n",
    "district_list = sorted(foody_restaurant['district_clean'].dropna().unique())\n",
    "\n",
    "# Gán ID\n",
    "city_map = {city: idx + 1 for idx, city in enumerate(city_list)}\n",
    "district_map = {district: idx + 1 for idx, district in enumerate(district_list)}\n",
    "\n",
    "# Map ID vào DataFrame\n",
    "foody_restaurant['city_id'] = foody_restaurant['city_clean'].map(city_map)\n",
    "foody_restaurant['district_id'] = foody_restaurant['district_clean'].map(district_map)"
   ]
  },
  {
   "cell_type": "code",
   "execution_count": null,
   "id": "653214b6",
   "metadata": {},
   "outputs": [],
   "source": [
    "foody_restaurant.to_csv(r\"./Grab/data/data_grb/foody/foody_restaurants.csv\", index=False, encoding='utf-8')"
   ]
  },
  {
   "cell_type": "markdown",
   "id": "16be65bb",
   "metadata": {},
   "source": [
    "## review"
   ]
  },
  {
   "cell_type": "code",
   "execution_count": null,
   "id": "ca567a6c",
   "metadata": {},
   "outputs": [],
   "source": [
    "def merge_broken_rows(df):\n",
    "    merged_rows = []\n",
    "    current_row = None\n",
    "\n",
    "    for idx, row in df.iterrows():\n",
    "        if pd.isna(row['user_id']) and pd.isna(row['user_name']) and pd.isna(row['rating']):\n",
    "            if current_row is not None:\n",
    "                current_row['review_text'] = (current_row['review_text'] or '') + ' ' + (row['review_id'] or '')\n",
    "        else:\n",
    "            if current_row is not None:\n",
    "                merged_rows.append(current_row)\n",
    "            current_row = row.copy()\n",
    "\n",
    "    if current_row is not None:\n",
    "        merged_rows.append(current_row)\n",
    "\n",
    "    return pd.DataFrame(merged_rows)\n",
    "\n",
    "df_fixed = merge_broken_rows(df)\n",
    "\n",
    "print(df_fixed.shape)\n",
    "df_fixed.head()"
   ]
  },
  {
   "cell_type": "code",
   "execution_count": null,
   "id": "69642c33",
   "metadata": {},
   "outputs": [],
   "source": [
    "df_fixed.dropna(subset=['rating', 'review_text','restaurant_id'], inplace=True)"
   ]
  },
  {
   "cell_type": "code",
   "execution_count": null,
   "id": "a2ac1e69",
   "metadata": {},
   "outputs": [],
   "source": [
    "#show 'review_id', 'restaurant_id', 'user_id', 'user_name', 'rating', 'review_text', 'created_date'\n",
    "foody_review = df_fixed[['review_id', 'restaurant_id', 'user_id', 'user_name', 'rating', 'review_text', 'created_date']]\n",
    "# rename columns 'review_id': 'rating_id', 'created_date': 'review_time'\n",
    "foody_review.rename(columns={'review_id': 'rating_id', 'created_date': 'review_time'}, inplace=True)\n",
    "# add platform_id = 1\n",
    "foody_review['platform_id'] = 1"
   ]
  },
  {
   "cell_type": "code",
   "execution_count": null,
   "id": "246ac9e7",
   "metadata": {},
   "outputs": [],
   "source": [
    "# scale rating to band 5\n",
    "def custom_round(x):\n",
    "    if pd.isna(x):    # nếu x là NaN thì bỏ qua\n",
    "        return x\n",
    "    try:\n",
    "        return math.ceil(float(x) / 2 - 0.45)\n",
    "    except:\n",
    "        return x    # nếu lỗi thì giữ nguyên\n",
    "\n",
    "# Áp dụng\n",
    "foody_review['rating'] = foody_review['rating'].apply(custom_round)\n",
    "\n",
    "foody_review.head(5)"
   ]
  },
  {
   "cell_type": "code",
   "execution_count": null,
   "id": "20c4fab2",
   "metadata": {},
   "outputs": [],
   "source": [
    "foody_review.to_csv(r\"./Grab/data/data_grb/foody/foody_reviews.csv\", index=False, encoding='utf-8')"
   ]
  },
  {
   "cell_type": "markdown",
   "id": "816db7ae",
   "metadata": {},
   "source": [
    "## dishes"
   ]
  }
 ],
 "metadata": {
  "language_info": {
   "name": "python"
  }
 },
 "nbformat": 4,
 "nbformat_minor": 5
}
